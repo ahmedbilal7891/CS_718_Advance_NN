{
 "cells": [
  {
   "cell_type": "code",
   "execution_count": 1,
   "metadata": {},
   "outputs": [
    {
     "name": "stdout",
     "output_type": "stream",
     "text": [
      " Please Enter the radius of a circle: 5\n",
      " Area Of a Circle = 78.50\n",
      " Circumference Of a Circle = 31.40\n"
     ]
    }
   ],
   "source": [
    "# Python Program to find Area Of Circle using Radius\n",
    "\n",
    "PI = 3.14\n",
    "radius = float(input(' Please Enter the radius of a circle: '))\n",
    "area = PI * radius * radius\n",
    "circumference = 2 * PI * radius\n",
    "\n",
    "print(\" Area Of a Circle = %.2f\" %area)\n",
    "print(\" Circumference Of a Circle = %.2f\" %circumference)"
   ]
  },
  {
   "cell_type": "code",
   "execution_count": 8,
   "metadata": {},
   "outputs": [
    {
     "name": "stdout",
     "output_type": "stream",
     "text": [
      " Please Enter the radius of a circle: 5\n"
     ]
    }
   ],
   "source": [
    "a = input(' Please Enter the radius of a circle: ')"
   ]
  },
  {
   "cell_type": "code",
   "execution_count": 11,
   "metadata": {},
   "outputs": [
    {
     "name": "stdout",
     "output_type": "stream",
     "text": [
      "<class 'int'>\n"
     ]
    }
   ],
   "source": [
    "a = int(a)\n",
    "print(type(a))"
   ]
  },
  {
   "cell_type": "code",
   "execution_count": 17,
   "metadata": {},
   "outputs": [
    {
     "name": "stdout",
     "output_type": "stream",
     "text": [
      "The area of the triangle is 4.22\n"
     ]
    }
   ],
   "source": [
    "#python program to find Area of Triangle\n",
    "# Three sides of the triangle is a, b and c:  \n",
    "a=2\n",
    "b=3\n",
    "c=4\n",
    "# calculate the semi-perimeter  \n",
    "s = (a + b + c) / 2  \n",
    "  \n",
    "# calculate the area  \n",
    "area = (s*(s-a)*(s-b)*(s-c)) * 0.5  \n",
    "print('The area of the triangle is %0.2f' %area)"
   ]
  },
  {
   "cell_type": "code",
   "execution_count": 19,
   "metadata": {},
   "outputs": [
    {
     "name": "stdout",
     "output_type": "stream",
     "text": [
      "elementwise_multiplication  = 120\n"
     ]
    }
   ],
   "source": [
    "\n",
    "#Define two  vectors of multiplication\n",
    "Vec_a = [2, 4, 6, 8]\n",
    "Vec_b = 20\n",
    "\n",
    "def elementwise_multiplication(Vec_a,Vec_b):\n",
    "    multiple=Vec_a[2]*Vec_b\n",
    "    return multiple\n",
    "\n",
    "result=elementwise_multiplication(Vec_a,Vec_b)\n",
    "print(\"elementwise_multiplication  = %d\" %result)"
   ]
  },
  {
   "cell_type": "code",
   "execution_count": 35,
   "metadata": {},
   "outputs": [
    {
     "name": "stdout",
     "output_type": "stream",
     "text": [
      "Sum of all elements in given list:  109\n"
     ]
    }
   ],
   "source": [
    "total = 0\n",
    " \n",
    "# creating a list\n",
    "list1 = [11, 5, 17, 18, 23, 35]\n",
    " \n",
    "# Iterate each element in list\n",
    "# and add them in variale total\n",
    "\n",
    "for ele in range(len(list1)):\n",
    "    total = total + list1[ele]\n",
    "\n",
    "print(\"Sum of all elements in given list: \", total)"
   ]
  },
  {
   "cell_type": "code",
   "execution_count": 28,
   "metadata": {},
   "outputs": [
    {
     "name": "stdout",
     "output_type": "stream",
     "text": [
      "74\n"
     ]
    }
   ],
   "source": [
    "total=0\n",
    "list1 = [11, 5, 17, 18, 23]\n",
    "\n",
    "for i in list1:\n",
    "    total += i\n",
    "\n",
    "print(total)"
   ]
  },
  {
   "cell_type": "code",
   "execution_count": 46,
   "metadata": {},
   "outputs": [
    {
     "name": "stdout",
     "output_type": "stream",
     "text": [
      "Average of all elements in given list:  14.8\n"
     ]
    }
   ],
   "source": [
    "\n",
    "#define vector average\n",
    " \n",
    "# creating a list\n",
    "Vec_a = [11, 5, 17, 18, 23]\n",
    "sum = 0\n",
    "\n",
    "def vector_average(Vec_a):\n",
    "    global sum\n",
    "    for ele in Vec_a:\n",
    "        sum += ele\n",
    "       \n",
    "    avg = sum/len(Vec_a)\n",
    "    return avg\n",
    "\n",
    "avg_result = vector_average(Vec_a)\n",
    "\n",
    "\n",
    "\n",
    "print(\"Average of all elements in given list: \",avg_result)"
   ]
  },
  {
   "cell_type": "code",
   "execution_count": null,
   "metadata": {},
   "outputs": [],
   "source": []
  }
 ],
 "metadata": {
  "kernelspec": {
   "display_name": "Python 3",
   "language": "python",
   "name": "python3"
  },
  "language_info": {
   "codemirror_mode": {
    "name": "ipython",
    "version": 3
   },
   "file_extension": ".py",
   "mimetype": "text/x-python",
   "name": "python",
   "nbconvert_exporter": "python",
   "pygments_lexer": "ipython3",
   "version": "3.8.5"
  }
 },
 "nbformat": 4,
 "nbformat_minor": 4
}
