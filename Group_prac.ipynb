{
 "cells": [
  {
   "cell_type": "code",
   "execution_count": null,
   "metadata": {},
   "outputs": [],
   "source": [
    "# Python Program to find Area Of Circle using Radius\n",
    "\n",
    "PI = 3.14\n",
    "radius = float(input(' Please Enter the radius of a circle: '))\n",
    "area = PI * radius * radius\n",
    "circumference = 2 * PI * radius\n",
    "\n",
    "print(\" Area Of a Circle = %.2f\" %area)\n",
    "print(\" Circumference Of a Circle = %.2f\" %circumference)"
   ]
  },
  {
   "cell_type": "code",
   "execution_count": 3,
   "metadata": {},
   "outputs": [
    {
     "name": "stdout",
     "output_type": "stream",
     "text": [
      "enter a base2\n",
      "enter a perpendicular4\n",
      "enter a hypotenuse5\n",
      "5.5\n",
      "3.799671038392666\n"
     ]
    }
   ],
   "source": [
    "# Area of triangle when we don't know the altitude value, and all sides are given\n",
    "\n",
    "#machine\n",
    "def Area_of_triangle(s, a, b, c):\n",
    "\n",
    "    Area = (s*(s-a)*(s-b)*(s-c)) ** 0.5\n",
    "    return Area\n",
    "\n",
    "\n",
    "\n",
    "#inputs taken here\n",
    "a = float(input(\"enter a base\"))\n",
    "b = float(input(\"enter a perpendicular\"))\n",
    "c = float(input(\"enter a hypotenuse\"))\n",
    "\n",
    "s = (a + b + c)/2 #semi parameter calculation\n",
    "print(s)\n",
    "area = Area_of_triangle(s, a, b, c)\n",
    "\n",
    "print(area)\n"
   ]
  },
  {
   "cell_type": "code",
   "execution_count": 4,
   "metadata": {},
   "outputs": [
    {
     "name": "stdout",
     "output_type": "stream",
     "text": [
      "1015\n"
     ]
    }
   ],
   "source": [
    "tatol = 0\n",
    "record = [15, 50, 200, 250, 400, 100]\n",
    "\n",
    "for i in record:\n",
    "    tatol += i\n",
    "\n",
    "print(tatol)"
   ]
  },
  {
   "cell_type": "code",
   "execution_count": 6,
   "metadata": {},
   "outputs": [
    {
     "name": "stdout",
     "output_type": "stream",
     "text": [
      "[2, 12, 30, 56, 90]\n"
     ]
    }
   ],
   "source": [
    "a = [1, 3, 5, 7, 9]\n",
    "b = [2, 4, 6, 8, 10]\n",
    "c = []\n",
    "assert (len(a) == len(b))\n",
    "for i in range(len(a)):    #range(0, 1)\n",
    "    z = a[i] * b[i]\n",
    "    c.append(z)\n",
    "print(c)"
   ]
  },
  {
   "cell_type": "code",
   "execution_count": null,
   "metadata": {},
   "outputs": [],
   "source": []
  }
 ],
 "metadata": {
  "kernelspec": {
   "display_name": "Python 3",
   "language": "python",
   "name": "python3"
  },
  "language_info": {
   "codemirror_mode": {
    "name": "ipython",
    "version": 3
   },
   "file_extension": ".py",
   "mimetype": "text/x-python",
   "name": "python",
   "nbconvert_exporter": "python",
   "pygments_lexer": "ipython3",
   "version": "3.8.5"
  }
 },
 "nbformat": 4,
 "nbformat_minor": 4
}
