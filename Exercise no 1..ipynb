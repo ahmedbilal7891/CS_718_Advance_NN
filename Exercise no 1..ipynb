{
 "cells": [
  {
   "cell_type": "code",
   "execution_count": 7,
   "metadata": {},
   "outputs": [],
   "source": [
    "x = \"hello\"\n",
    "\n",
    "#if condition returns True, then nothing happens:\n",
    "assert x == \"hello\"\n",
    "\n",
    "#if condition returns False, AssertionError is raised:\n",
    "#assert x == \"goodbye\""
   ]
  },
  {
   "cell_type": "code",
   "execution_count": 17,
   "metadata": {},
   "outputs": [
    {
     "name": "stdout",
     "output_type": "stream",
     "text": [
      "10.2\n"
     ]
    }
   ],
   "source": [
    "#elementwise multiplication\n",
    "weight = 1.2\n",
    "toes = [8.5, 9.5, 10, 9]\n",
    "\n",
    "#function\n",
    "def ele_multi (ip, wt):\n",
    "    pred = ip * wt\n",
    "    return pred\n",
    "\n",
    "#main working\n",
    "input = toes[0]\n",
    "\n",
    "print(ele_multi(input, weight)) #function call and display\n",
    "\n",
    "    \n"
   ]
  },
  {
   "cell_type": "code",
   "execution_count": 16,
   "metadata": {},
   "outputs": [
    {
     "name": "stdout",
     "output_type": "stream",
     "text": [
      "0.8500000000000001\n"
     ]
    }
   ],
   "source": [
    "weight = 0.1 \n",
    "def neural_network(input, weight):\n",
    " prediction = input * weight\n",
    " return prediction\n",
    "\n",
    "number_of_toes = [8.5, 9.5, 10, 9]\n",
    "input = number_of_toes[0]\n",
    "pred = neural_network(input,weight)\n",
    "print(pred)"
   ]
  },
  {
   "cell_type": "code",
   "execution_count": 21,
   "metadata": {},
   "outputs": [
    {
     "name": "stdout",
     "output_type": "stream",
     "text": [
      "1\n"
     ]
    }
   ],
   "source": [
    "# def elementwise_addition(vec_a, vec_b)\n",
    "vector_a = [0, 1, 1, 0]\n",
    "vector_b = [1, 1, 0, 0]\n",
    "\n",
    "def elementwise_addition(vec_a, vec_b):\n",
    "        add = vec_a + vec_b\n",
    "        return add\n",
    "    \n",
    "#proceed\n",
    "output = elementwise_addition(vector_a[0], vector_b[0])\n",
    "print(output)"
   ]
  },
  {
   "cell_type": "code",
   "execution_count": 2,
   "metadata": {},
   "outputs": [
    {
     "name": "stdout",
     "output_type": "stream",
     "text": [
      "Additon of index 0= 1\n",
      "Additon of index 1= 2\n",
      "Additon of index 2= 1\n",
      "Additon of index 3= 0\n"
     ]
    }
   ],
   "source": [
    "# def elementwise_addition(vec_a, vec_b)\n",
    "vector_a = [0, 1, 1, 0]\n",
    "vector_b = [1, 1, 0, 0]\n",
    "\n",
    "#machine\n",
    "def elementwise_addition(vec_a, vec_b):\n",
    "        add = vec_a + vec_b\n",
    "        return add\n",
    "    \n",
    "#proceed\n",
    "assert (len(vector_a) == len(vector_b))\n",
    "for i in range(len(vector_a)):\n",
    "    output = elementwise_addition(vector_a[i], vector_b[i])\n",
    "    print(\"Additon of index\"+ \" \" + str(i) + \"= \" + str(output))\n",
    "    \n"
   ]
  },
  {
   "cell_type": "code",
   "execution_count": 22,
   "metadata": {},
   "outputs": [
    {
     "name": "stdout",
     "output_type": "stream",
     "text": [
      "[4, 7, 11, 15, 19]\n"
     ]
    }
   ],
   "source": [
    "#define 3 vecs and sum of 2 vecs store in 3rd\n",
    "\n",
    "#data\n",
    "a = [2, 3, 5, 7, 9]\n",
    "b = [2, 4, 6, 8, 10]\n",
    "c = [] #for output\n",
    "\n",
    "#mechine\n",
    "def add_vecs(vec_a, vec_b):\n",
    "    vec_c = vec_a + vec_b\n",
    "    c.append(vec_c)\n",
    "    return\n",
    "\n",
    "#working\n",
    "assert(len(a) == len(b))\n",
    "for i in range(len(a)):  #range (0, 5)\n",
    "    add_vecs(a[i], b[i])\n",
    "\n",
    "#output\n",
    "print(c)\n",
    "\n",
    "\n",
    "    \n",
    "    "
   ]
  },
  {
   "cell_type": "code",
   "execution_count": 25,
   "metadata": {},
   "outputs": [
    {
     "name": "stdout",
     "output_type": "stream",
     "text": [
      "26\n"
     ]
    }
   ],
   "source": [
    "# def vector_sum(vec_a)\n",
    "\n",
    "#data\n",
    "vector = [2, 3, 5, 7, 9]\n",
    "vec_sum = 0\n",
    "\n",
    "#mechine\n",
    "def vector_sum(vec_a):\n",
    "    global vec_sum\n",
    "    for i in vec_a:\n",
    "        vec_sum += i\n",
    "    return\n",
    "\n",
    "\n",
    "\n",
    "#working\n",
    "vector_sum(vector)\n",
    "\n",
    "#output\n",
    "print(vec_sum)\n",
    "\n",
    "\n",
    "    \n",
    "    "
   ]
  },
  {
   "cell_type": "code",
   "execution_count": 27,
   "metadata": {},
   "outputs": [
    {
     "name": "stdout",
     "output_type": "stream",
     "text": [
      "average 5.2\n"
     ]
    }
   ],
   "source": [
    "# def vector_average(vec_a)\n",
    "\n",
    "#data\n",
    "vector = [2, 3, 5, 7, 9]\n",
    "vec_sum = 0\n",
    "\n",
    "#mechine\n",
    "def vector_sum(vec_a):\n",
    "    global vec_sum\n",
    "    for i in vec_a:\n",
    "        vec_sum += i\n",
    "    return\n",
    "\n",
    "#def vector_average(vec_sum, total_items):\n",
    "#    avg = vec_sum/total_items\n",
    "#    return avg\n",
    "    \n",
    "\n",
    "\n",
    "#working\n",
    "vector_sum(vector)\n",
    "get_avg = vec_sum/len(vector)\n",
    "\n",
    "#get_avg = vector_average(vec_sum, len(vector))\n",
    "\n",
    "#output\n",
    "print(\"average\", str(get_avg))\n",
    "\n",
    "\n",
    "    "
   ]
  },
  {
   "cell_type": "code",
   "execution_count": null,
   "metadata": {},
   "outputs": [],
   "source": [
    "#Assignment no 1\n",
    "\n",
    "#build logic to calculate areas of different shapes(Marzi ki 3) and display formatted results.\n",
    "\n",
    "#Given to all fellows\n",
    "\n",
    "#last date 23/04/2021 till 09AM"
   ]
  },
  {
   "cell_type": "code",
   "execution_count": 2,
   "metadata": {},
   "outputs": [
    {
     "name": "stdout",
     "output_type": "stream",
     "text": [
      "21\n"
     ]
    }
   ],
   "source": [
    "vec = [1, 2, 3, 4, 5, 6]\n",
    "total = 0;\n",
    "for i in vec:\n",
    "    total += i;\n",
    "print(total)\n"
   ]
  },
  {
   "cell_type": "code",
   "execution_count": null,
   "metadata": {},
   "outputs": [],
   "source": []
  }
 ],
 "metadata": {
  "kernelspec": {
   "display_name": "Python 3",
   "language": "python",
   "name": "python3"
  },
  "language_info": {
   "codemirror_mode": {
    "name": "ipython",
    "version": 3
   },
   "file_extension": ".py",
   "mimetype": "text/x-python",
   "name": "python",
   "nbconvert_exporter": "python",
   "pygments_lexer": "ipython3",
   "version": "3.8.5"
  }
 },
 "nbformat": 4,
 "nbformat_minor": 4
}
